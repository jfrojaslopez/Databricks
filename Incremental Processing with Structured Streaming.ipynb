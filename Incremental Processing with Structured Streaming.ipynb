{
 "cells": [
  {
   "cell_type": "markdown",
   "metadata": {
    "application/vnd.databricks.v1+cell": {
     "cellMetadata": {},
     "inputWidgets": {},
     "nuid": "7af853e2-b63b-44b8-8537-720bf6909557",
     "showTitle": false,
     "title": ""
    }
   },
   "source": [
    "# Incremental Processing with Structured Streaming"
   ]
  },
  {
   "cell_type": "markdown",
   "metadata": {
    "application/vnd.databricks.v1+cell": {
     "cellMetadata": {},
     "inputWidgets": {},
     "nuid": "7e2ec323-703f-4d17-8dae-8efcd9114b27",
     "showTitle": false,
     "title": ""
    }
   },
   "source": [
    "##Streaming Data Concepts"
   ]
  },
  {
   "cell_type": "markdown",
   "metadata": {
    "application/vnd.databricks.v1+cell": {
     "cellMetadata": {},
     "inputWidgets": {},
     "nuid": "8ed3f87f-1766-4d5a-a57f-af323e916559",
     "showTitle": false,
     "title": ""
    }
   },
   "source": [
    "<div style=\"background-color: lightblue; padding: 10px; border-radius: 5px;\">\n",
    "\n",
    "**¿Qué son los datos en flujo?**\n",
    "\n",
    "Datos ilimitados generados continuamente\n",
    "\n",
    "**Fuentes de datos típicas**\n",
    "\n",
    "1. Fuentes de datos de cambios en la base de datos\n",
    "2. Flujos de clics\n",
    "3. Registros de máquinas y aplicaciones\n",
    "4. Eventos de aplicación\n",
    "5. Datos móviles y de IoT\n",
    "\n",
    "***La gran mayoría de los datos del mundo son datos en streaming.***\n",
    "\n",
    "</div>\n"
   ]
  },
  {
   "cell_type": "markdown",
   "metadata": {
    "application/vnd.databricks.v1+cell": {
     "cellMetadata": {},
     "inputWidgets": {},
     "nuid": "f8d24863-7c20-4d22-b9f8-a48462e4a07a",
     "showTitle": false,
     "title": ""
    }
   },
   "source": [
    "**Notas:**\n",
    "\n",
    "Los datos en flujo o streaming data son un tipo de datos generados de forma continua y sin límite, típicamente en pequeñas cantidades, que son procesados en tiempo real o casi en tiempo real. Estos datos provienen de diversas fuentes y suelen reflejar eventos que ocurren en sistemas, aplicaciones o dispositivos. Los datos en flujo son fundamentales en muchos escenarios donde la información debe ser procesada o monitoreada de manera inmediata.\n",
    "\n",
    "**Características clave de los datos en flujo:**\n",
    "\n",
    "- Generación continua: Los datos no se producen en bloques predefinidos, sino que son generados y transmitidos de forma constante.\n",
    "- Bajo volumen por evento: Cada evento individual generalmente contiene pocos datos, pero el flujo continuo de eventos puede resultar en un gran volumen con el tiempo.\n",
    "- Procesamiento en tiempo real: Los datos deben ser procesados de inmediato, sin esperar a que se almacenen en una base de datos tradicional.\n",
    "\n",
    "**Fuentes típicas de datos en flujo:**\n",
    "\n",
    "- **DB change data feeds:** Cambios en bases de datos que se envían en tiempo real, por ejemplo, modificaciones de registros.\n",
    "- **Clickstreams:** Datos generados por los clics de los usuarios en sitios web o aplicaciones, permitiendo el análisis de navegación en tiempo real.\n",
    "- **Logs de máquinas y aplicaciones:** Información continua generada por sistemas informáticos, aplicaciones o dispositivos de hardware que registran eventos de sistema.\n",
    "- **Eventos de aplicaciones:** Eventos generados por aplicaciones que requieren ser monitoreados o respondidos rápidamente, como alertas de sistemas.\n",
    "- **Datos de dispositivos móviles e IoT:** Sensores, dispositivos conectados y aplicaciones móviles que generan datos constantemente, que pueden abarcar desde lecturas de sensores hasta actualizaciones de posición GPS.\n",
    "\n",
    "**Importancia:**\n",
    "\n",
    "Los datos en flujo representan una gran parte del volumen de datos generado en el mundo moderno, ya que muchas aplicaciones actuales dependen de la capacidad de procesar información en tiempo real, como en sistemas financieros, control de dispositivos IoT, monitoreo de aplicaciones web y análisis de comportamiento de usuarios en línea.\n",
    "\n",
    "Estos datos requieren tecnologías y plataformas especializadas para su procesamiento, como **Apache Kafka, Amazon Kinesis, Azure Event Hubs**, y otras herramientas diseñadas para soportar la ingesta y procesamiento de eventos a gran escala."
   ]
  },
  {
   "cell_type": "markdown",
   "metadata": {
    "application/vnd.databricks.v1+cell": {
     "cellMetadata": {},
     "inputWidgets": {},
     "nuid": "f2f96f10-d352-4da5-a1bd-93fb6322cf3e",
     "showTitle": false,
     "title": ""
    }
   },
   "source": [
    "<div style=\"display: flex; background-color: lightblue; padding: 10px; border-radius: 5px;\">\n",
    "  <div style=\"flex: 50%; padding: 10px;\">\n",
    "\n",
    "  **¿Qué es el procesamiento de flujos?**\n",
    "\n",
    "  El tratamiento tradicional de datos por lotes es puntual y limitado.\n",
    "\n",
    "  El procesamiento en flujo es continuo e ilimitado\n",
    "\n",
    "  </div>\n",
    "\n",
    "  <div style=\"flex: 50%; padding: 10px;\">\n",
    "\n",
    "  ***La gran mayoría de los datos del mundo son datos en streaming.***\n",
    "  \n",
    "  </div>\n",
    "\n",
    "</div>\n"
   ]
  }
 ],
 "metadata": {
  "application/vnd.databricks.v1+notebook": {
   "dashboards": [],
   "environmentMetadata": null,
   "language": "python",
   "notebookMetadata": {
    "pythonIndentUnit": 4
   },
   "notebookName": "Incremental Processing with Structured Streaming",
   "widgets": {}
  }
 },
 "nbformat": 4,
 "nbformat_minor": 0
}
