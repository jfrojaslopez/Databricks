{
 "cells": [
  {
   "cell_type": "markdown",
   "metadata": {
    "application/vnd.databricks.v1+cell": {
     "cellMetadata": {
      "byteLimit": 2048000,
      "rowLimit": 10000
     },
     "inputWidgets": {},
     "nuid": "52dbf28a-c576-4065-8684-05100bfc7684",
     "showTitle": false,
     "title": ""
    }
   },
   "source": [
    "##**Módulo 1: Programación Funcional en Python**\n",
    "---"
   ]
  },
  {
   "cell_type": "markdown",
   "metadata": {
    "application/vnd.databricks.v1+cell": {
     "cellMetadata": {
      "byteLimit": 2048000,
      "rowLimit": 10000
     },
     "inputWidgets": {},
     "nuid": "dae4a40e-324e-4ff9-9e8c-2c97509cd49b",
     "showTitle": false,
     "title": ""
    }
   },
   "source": [
    "###Clase 1: Programación Funcional en Python\n",
    "\n",
    "* Conceptos de programación funcional: funciones de orden superior, lambda, map, filter, reduce.\n",
    "* Aplicaciones en análisis de datos: transformación de datos, filtrado, agregación.\n",
    "\n",
    "> Ejemplo de código:\n",
    "\n",
    "```\n",
    "# Ejemplo de uso de funciones de orden superior y lambda en Python\n",
    "numbers = [1, 2, 3, 4, 5]\n",
    "result = list(map(lambda x: x * 2, numbers))  # Duplicar cada número\n",
    "print(result)  # Output: [2, 4, 6, 8, 10]\n",
    "\n",
    "```\n"
   ]
  },
  {
   "cell_type": "code",
   "execution_count": 0,
   "metadata": {
    "application/vnd.databricks.v1+cell": {
     "cellMetadata": {
      "byteLimit": 2048000,
      "rowLimit": 10000
     },
     "inputWidgets": {},
     "nuid": "2ee38002-d133-4ca2-8d41-b069c3111e81",
     "showTitle": false,
     "title": ""
    }
   },
   "outputs": [
    {
     "output_type": "stream",
     "name": "stdout",
     "output_type": "stream",
     "text": [
      "[2, 4, 6, 8, 10]\n"
     ]
    }
   ],
   "source": [
    "# Ejemplo de uso de funciones de orden superior y lambda en Python\n",
    "numbers = [1, 2, 3, 4, 5]\n",
    "result = list(map(lambda x: x * 2, numbers))  # Duplicar cada número\n",
    "print(result)  # Output: [2, 4, 6, 8, 10]"
   ]
  },
  {
   "cell_type": "markdown",
   "metadata": {
    "application/vnd.databricks.v1+cell": {
     "cellMetadata": {
      "byteLimit": 2048000,
      "rowLimit": 10000
     },
     "inputWidgets": {},
     "nuid": "4feca9a4-5599-408b-a884-7b6c7a597502",
     "showTitle": false,
     "title": ""
    }
   },
   "source": [
    "\n",
    "# **▶ Conceptos de programación funcional**"
   ]
  },
  {
   "cell_type": "markdown",
   "metadata": {
    "application/vnd.databricks.v1+cell": {
     "cellMetadata": {
      "byteLimit": 2048000,
      "rowLimit": 10000
     },
     "inputWidgets": {},
     "nuid": "65ee56b4-2055-4426-a46d-f2fae146c3be",
     "showTitle": false,
     "title": ""
    }
   },
   "source": [
    "---\n",
    "#Funciones de Orden Superior\n",
    "---\n",
    "Las funciones de orden superior son aquellas que pueden tomar otras funciones como argumentos y/o devolver funciones como resultados.\n",
    "\n",
    ">Ejemplo de una Función de Orden Superior\n",
    "\n"
   ]
  },
  {
   "cell_type": "code",
   "execution_count": 0,
   "metadata": {
    "application/vnd.databricks.v1+cell": {
     "cellMetadata": {
      "byteLimit": 2048000,
      "rowLimit": 10000
     },
     "inputWidgets": {},
     "nuid": "397f5d91-9939-41d5-902f-2833dd7dd7cf",
     "showTitle": false,
     "title": ""
    }
   },
   "outputs": [
    {
     "output_type": "stream",
     "name": "stdout",
     "output_type": "stream",
     "text": [
      "[1, 4, 9, 16, 25]\n"
     ]
    }
   ],
   "source": [
    "def aplicar_funcion(func, lista):\n",
    "    return [func(x) for x in lista]\n",
    "\n",
    "def cuadrado(x):\n",
    "    return x ** 2\n",
    "\n",
    "numeros = [1, 2, 3, 4, 5]\n",
    "resultado = aplicar_funcion(cuadrado, numeros)\n",
    "print(resultado)  # Output: [1, 4, 9, 16, 25]\n"
   ]
  },
  {
   "cell_type": "markdown",
   "metadata": {
    "application/vnd.databricks.v1+cell": {
     "cellMetadata": {
      "byteLimit": 2048000,
      "rowLimit": 10000
     },
     "inputWidgets": {},
     "nuid": "f0ffe449-e67a-4f5d-9a8d-2e9b27c931b8",
     "showTitle": false,
     "title": ""
    }
   },
   "source": [
    "---\n",
    "#Funciones Lambda\n",
    "---\n",
    "Las funciones lambda son pequeñas funciones anónimas definidas con la palabra clave lambda. Se utilizan para crear funciones simples de manera concisa.\n",
    "\n",
    ">Ejemplo de Función Lambda"
   ]
  },
  {
   "cell_type": "code",
   "execution_count": 0,
   "metadata": {
    "application/vnd.databricks.v1+cell": {
     "cellMetadata": {
      "byteLimit": 2048000,
      "rowLimit": 10000
     },
     "inputWidgets": {},
     "nuid": "a6458140-1c1f-47eb-9c62-534648f48a3b",
     "showTitle": false,
     "title": ""
    }
   },
   "outputs": [
    {
     "output_type": "stream",
     "name": "stdout",
     "output_type": "stream",
     "text": [
      "25\n[1, 4, 9, 16, 25]\n"
     ]
    }
   ],
   "source": [
    "cuadrado = lambda x: x ** 2\n",
    "print(cuadrado(5))  # Output: 25\n",
    "\n",
    "# Uso con map\n",
    "numeros = [1, 2, 3, 4, 5]\n",
    "resultado = list(map(lambda x: x ** 2, numeros))\n",
    "print(resultado)  # Output: [1, 4, 9, 16, 25]\n"
   ]
  },
  {
   "cell_type": "markdown",
   "metadata": {
    "application/vnd.databricks.v1+cell": {
     "cellMetadata": {
      "byteLimit": 2048000,
      "rowLimit": 10000
     },
     "inputWidgets": {},
     "nuid": "5c6fdeaf-2371-472a-89c9-3b0c73a9db52",
     "showTitle": false,
     "title": ""
    }
   },
   "source": [
    "---\n",
    "#Función map\n",
    "---\n",
    "La función map aplica una función a todos los elementos de una lista (u otro iterable) y devuelve un nuevo iterable con los resultados.\n",
    "\n",
    ">Ejemplo de map"
   ]
  },
  {
   "cell_type": "code",
   "execution_count": 0,
   "metadata": {
    "application/vnd.databricks.v1+cell": {
     "cellMetadata": {
      "byteLimit": 2048000,
      "rowLimit": 10000
     },
     "inputWidgets": {},
     "nuid": "381eacd5-b595-4b82-9f86-1c34a8beeab4",
     "showTitle": false,
     "title": ""
    }
   },
   "outputs": [
    {
     "output_type": "stream",
     "name": "stdout",
     "output_type": "stream",
     "text": [
      "[2, 4, 6, 8, 10]\n"
     ]
    }
   ],
   "source": [
    "numeros = [1, 2, 3, 4, 5]\n",
    "resultado = list(map(lambda x: x * 2, numeros))\n",
    "print(resultado)  # Output: [2, 4, 6, 8, 10]\n"
   ]
  },
  {
   "cell_type": "markdown",
   "metadata": {
    "application/vnd.databricks.v1+cell": {
     "cellMetadata": {
      "byteLimit": 2048000,
      "rowLimit": 10000
     },
     "inputWidgets": {},
     "nuid": "2f680555-0431-431e-96d4-639e59ee5301",
     "showTitle": false,
     "title": ""
    }
   },
   "source": [
    "---\n",
    "#Función filter\n",
    "---\n",
    "La función filter aplica una función a todos los elementos de una lista (u otro iterable) y devuelve un nuevo iterable con los elementos para los cuales la función devuelve True.\n",
    "\n",
    ">Ejemplo de filter"
   ]
  },
  {
   "cell_type": "code",
   "execution_count": 0,
   "metadata": {
    "application/vnd.databricks.v1+cell": {
     "cellMetadata": {
      "byteLimit": 2048000,
      "rowLimit": 10000
     },
     "inputWidgets": {},
     "nuid": "df952ebc-561b-47fc-8fc9-dedfbb13eed6",
     "showTitle": false,
     "title": ""
    }
   },
   "outputs": [
    {
     "output_type": "stream",
     "name": "stdout",
     "output_type": "stream",
     "text": [
      "[2, 4]\n"
     ]
    }
   ],
   "source": [
    "numeros = [1, 2, 3, 4, 5]\n",
    "resultado = list(filter(lambda x: x % 2 == 0, numeros))\n",
    "print(resultado)  # Output: [2, 4]\n"
   ]
  },
  {
   "cell_type": "markdown",
   "metadata": {
    "application/vnd.databricks.v1+cell": {
     "cellMetadata": {
      "byteLimit": 2048000,
      "rowLimit": 10000
     },
     "inputWidgets": {},
     "nuid": "ff7509e5-69f0-4751-ab17-f0f2f9b17ed0",
     "showTitle": false,
     "title": ""
    }
   },
   "source": [
    "---\n",
    "#Función reduce\n",
    "---\n",
    "La función reduce aplica una función de manera acumulativa a los elementos de una lista (u otro iterable), reduciéndola a un solo valor. Para usar reduce, debes importarla del módulo functools.\n",
    "\n",
    ">Ejemplo de reduce"
   ]
  },
  {
   "cell_type": "code",
   "execution_count": 0,
   "metadata": {
    "application/vnd.databricks.v1+cell": {
     "cellMetadata": {
      "byteLimit": 2048000,
      "rowLimit": 10000
     },
     "inputWidgets": {},
     "nuid": "443760c5-1daa-4981-bdf1-ffc67614764a",
     "showTitle": false,
     "title": ""
    }
   },
   "outputs": [
    {
     "output_type": "stream",
     "name": "stdout",
     "output_type": "stream",
     "text": [
      "15\n"
     ]
    }
   ],
   "source": [
    "from functools import reduce\n",
    "\n",
    "numeros = [1, 2, 3, 4, 5]\n",
    "resultado = reduce(lambda x, y: x + y, numeros)\n",
    "print(resultado)  # Output: 15\n"
   ]
  },
  {
   "cell_type": "markdown",
   "metadata": {
    "application/vnd.databricks.v1+cell": {
     "cellMetadata": {
      "byteLimit": 2048000,
      "rowLimit": 10000
     },
     "inputWidgets": {},
     "nuid": "ffc02403-535b-4ac6-b92e-14dc1a1334bb",
     "showTitle": false,
     "title": ""
    }
   },
   "source": [
    "---\n",
    "#Código Completo\n",
    "---"
   ]
  },
  {
   "cell_type": "code",
   "execution_count": 0,
   "metadata": {
    "application/vnd.databricks.v1+cell": {
     "cellMetadata": {
      "byteLimit": 2048000,
      "rowLimit": 10000
     },
     "inputWidgets": {},
     "nuid": "955e6235-d5d7-4e18-a290-48d767ebea25",
     "showTitle": false,
     "title": ""
    }
   },
   "outputs": [
    {
     "output_type": "stream",
     "name": "stdout",
     "output_type": "stream",
     "text": [
      "Función de Orden Superior: [1, 4, 9, 16, 25]\nLambda cuadrado: 25\nmap con lambda: [1, 4, 9, 16, 25]\nfilter con lambda: [2, 4]\nreduce con lambda: 15\n"
     ]
    }
   ],
   "source": [
    "from functools import reduce\n",
    "\n",
    "# Función de orden superior\n",
    "def aplicar_funcion(func, lista):\n",
    "    return [func(x) for x in lista]\n",
    "\n",
    "def cuadrado(x):\n",
    "    return x ** 2\n",
    "\n",
    "numeros = [1, 2, 3, 4, 5]\n",
    "resultado_orden_superior = aplicar_funcion(cuadrado, numeros)\n",
    "print(\"Función de Orden Superior:\", resultado_orden_superior)  # Output: [1, 4, 9, 16, 25]\n",
    "\n",
    "# Función lambda\n",
    "cuadrado_lambda = lambda x: x ** 2\n",
    "print(\"Lambda cuadrado:\", cuadrado_lambda(5))  # Output: 25\n",
    "\n",
    "# Uso de lambda con map\n",
    "resultado_map = list(map(lambda x: x ** 2, numeros))\n",
    "print(\"map con lambda:\", resultado_map)  # Output: [1, 4, 9, 16, 25]\n",
    "\n",
    "# Uso de filter\n",
    "resultado_filter = list(filter(lambda x: x % 2 == 0, numeros))\n",
    "print(\"filter con lambda:\", resultado_filter)  # Output: [2, 4]\n",
    "\n",
    "# Uso de reduce\n",
    "resultado_reduce = reduce(lambda x, y: x + y, numeros)\n",
    "print(\"reduce con lambda:\", resultado_reduce)  # Output: 15\n"
   ]
  },
  {
   "cell_type": "markdown",
   "metadata": {
    "application/vnd.databricks.v1+cell": {
     "cellMetadata": {
      "byteLimit": 2048000,
      "rowLimit": 10000
     },
     "inputWidgets": {},
     "nuid": "8bdc202a-6e0e-438a-a2aa-de090b2e499a",
     "showTitle": false,
     "title": ""
    }
   },
   "source": [
    "# **▶ Aplicaciones en análisis de datos**"
   ]
  },
  {
   "cell_type": "markdown",
   "metadata": {
    "application/vnd.databricks.v1+cell": {
     "cellMetadata": {
      "byteLimit": 2048000,
      "rowLimit": 10000
     },
     "inputWidgets": {},
     "nuid": "48b1c40e-1fd4-43f0-bf53-b3bbb3b95844",
     "showTitle": false,
     "title": ""
    }
   },
   "source": [
    "---\n",
    "#Transformación de Datos\n",
    "---\n",
    "Las transformaciones de datos implican cambiar la forma o el contenido de los datos. Aquí se muestra cómo crear nuevas columnas, cambiar tipos de datos y aplicar funciones a columnas.\n",
    "\n",
    ">Ejemplo de Transformación de Datos"
   ]
  },
  {
   "cell_type": "code",
   "execution_count": 0,
   "metadata": {
    "application/vnd.databricks.v1+cell": {
     "cellMetadata": {
      "byteLimit": 2048000,
      "rowLimit": 10000
     },
     "inputWidgets": {},
     "nuid": "68b7c280-6640-439e-8af6-4d7ea7c40729",
     "showTitle": false,
     "title": ""
    }
   },
   "outputs": [
    {
     "output_type": "display_data",
     "data": {
      "application/vnd.databricks.v1+bamboolib_hint": "{\"pd.DataFrames\": [], \"version\": \"0.0.1\"}",
      "text/plain": []
     },
     "metadata": {},
     "output_type": "display_data"
    },
    {
     "output_type": "stream",
     "name": "stdout",
     "output_type": "stream",
     "text": [
      "Datos transformados:\n    Nombre  Edad  Salario  Salario Anual  Salario Incrementado\n0    Alice  24.0    50000         600000               55000.0\n1      Bob  27.0    60000         720000               66000.0\n2  Charlie  22.0    45000         540000               49500.0\n3    David  32.0    80000         960000               88000.0\n4      Eva  29.0    70000         840000               77000.0\n"
     ]
    }
   ],
   "source": [
    "import pandas as pd\n",
    "\n",
    "# Crear un DataFrame de ejemplo\n",
    "data = {\n",
    "    'Nombre': ['Alice', 'Bob', 'Charlie', 'David', 'Eva'],\n",
    "    'Edad': [24, 27, 22, 32, 29],\n",
    "    'Salario': [50000, 60000, 45000, 80000, 70000]\n",
    "}\n",
    "df = pd.DataFrame(data)\n",
    "\n",
    "# Crear una nueva columna con un cálculo\n",
    "df['Salario Anual'] = df['Salario'] * 12\n",
    "\n",
    "# Convertir la columna 'Edad' a tipo float\n",
    "df['Edad'] = df['Edad'].astype(float)\n",
    "\n",
    "# Aplicar una función a una columna\n",
    "df['Salario Incrementado'] = df['Salario'].apply(lambda x: x * 1.1)\n",
    "\n",
    "print(\"Datos transformados:\")\n",
    "print(df)\n"
   ]
  },
  {
   "cell_type": "markdown",
   "metadata": {
    "application/vnd.databricks.v1+cell": {
     "cellMetadata": {
      "byteLimit": 2048000,
      "rowLimit": 10000
     },
     "inputWidgets": {},
     "nuid": "094c42cb-e1df-4736-986f-0aa5cb9fcdc3",
     "showTitle": false,
     "title": ""
    }
   },
   "source": [
    "---\n",
    "#Filtrado de Datos\n",
    "---\n",
    "El filtrado de datos implica seleccionar filas que cumplen con ciertos criterios.\n",
    "\n",
    ">Ejemplo de Filtrado de Datos"
   ]
  },
  {
   "cell_type": "code",
   "execution_count": 0,
   "metadata": {
    "application/vnd.databricks.v1+cell": {
     "cellMetadata": {
      "byteLimit": 2048000,
      "rowLimit": 10000
     },
     "inputWidgets": {},
     "nuid": "55e59ec9-acd2-4e90-a7d9-4b7a4382fd0f",
     "showTitle": false,
     "title": ""
    }
   },
   "outputs": [
    {
     "output_type": "stream",
     "name": "stdout",
     "output_type": "stream",
     "text": [
      "Filtrado por Edad > 25:\n  Nombre  Edad  Salario  Salario Anual  Salario Incrementado\n1    Bob  27.0    60000         720000               66000.0\n3  David  32.0    80000         960000               88000.0\n4    Eva  29.0    70000         840000               77000.0\nFiltrado por Salario > 60000:\n  Nombre  Edad  Salario  Salario Anual  Salario Incrementado\n3  David  32.0    80000         960000               88000.0\n4    Eva  29.0    70000         840000               77000.0\n"
     ]
    }
   ],
   "source": [
    "# Filtrar los datos para incluir solo filas donde la Edad es mayor de 25\n",
    "filtro_edad = df[df['Edad'] > 25]\n",
    "\n",
    "print(\"Filtrado por Edad > 25:\")\n",
    "print(filtro_edad)\n",
    "\n",
    "# Filtrar los datos para incluir solo filas donde el Salario es mayor de 60000\n",
    "filtro_salario = df[df['Salario'] > 60000]\n",
    "\n",
    "print(\"Filtrado por Salario > 60000:\")\n",
    "print(filtro_salario)\n"
   ]
  },
  {
   "cell_type": "markdown",
   "metadata": {
    "application/vnd.databricks.v1+cell": {
     "cellMetadata": {
      "byteLimit": 2048000,
      "rowLimit": 10000
     },
     "inputWidgets": {},
     "nuid": "bab3c9d3-6eaa-465b-8975-cc24af22c43d",
     "showTitle": false,
     "title": ""
    }
   },
   "source": [
    "---\n",
    "#Agregación de Datos\n",
    "---\n",
    "La agregación de datos implica realizar cálculos sobre grupos de datos, como suma, promedio, conteo, etc.\n",
    "\n",
    ">Ejemplo de Agregación de Datos"
   ]
  },
  {
   "cell_type": "code",
   "execution_count": 0,
   "metadata": {
    "application/vnd.databricks.v1+cell": {
     "cellMetadata": {
      "byteLimit": 2048000,
      "rowLimit": 10000
     },
     "inputWidgets": {},
     "nuid": "6d848ab7-ecf6-425b-bd4d-2d9b94ed769f",
     "showTitle": false,
     "title": ""
    }
   },
   "outputs": [
    {
     "output_type": "stream",
     "name": "stdout",
     "output_type": "stream",
     "text": [
      "Datos agregados por Departamento:\n                   Salario  Edad\nDepartamento                    \nHR            63333.333333    83\nIT            55000.000000    75\n"
     ]
    }
   ],
   "source": [
    "# Crear un DataFrame de ejemplo con una columna adicional para la agregación\n",
    "data = {\n",
    "    'Nombre': ['Alice', 'Bob', 'Charlie', 'David', 'Eva', 'Frank'],\n",
    "    'Edad': [24, 27, 22, 32, 29, 24],\n",
    "    'Salario': [50000, 60000, 45000, 80000, 70000, 50000],\n",
    "    'Departamento': ['IT', 'HR', 'IT', 'HR', 'IT', 'HR']\n",
    "}\n",
    "df = pd.DataFrame(data)\n",
    "\n",
    "# Agrupar los datos por 'Departamento' y calcular la media de 'Salario' y la suma de 'Edad'\n",
    "agrupado = df.groupby('Departamento').agg({\n",
    "    'Salario': 'mean',\n",
    "    'Edad': 'sum'\n",
    "})\n",
    "\n",
    "print(\"Datos agregados por Departamento:\")\n",
    "print(agrupado)\n"
   ]
  },
  {
   "cell_type": "markdown",
   "metadata": {
    "application/vnd.databricks.v1+cell": {
     "cellMetadata": {
      "byteLimit": 2048000,
      "rowLimit": 10000
     },
     "inputWidgets": {},
     "nuid": "573c4d6f-e122-4c5b-9712-24cc1e2fe17b",
     "showTitle": false,
     "title": ""
    }
   },
   "source": [
    "---\n",
    "#Código Completo\n",
    "---"
   ]
  },
  {
   "cell_type": "code",
   "execution_count": 0,
   "metadata": {
    "application/vnd.databricks.v1+cell": {
     "cellMetadata": {
      "byteLimit": 2048000,
      "rowLimit": 10000
     },
     "inputWidgets": {},
     "nuid": "feda02c4-f240-434c-92de-274b09fe20ec",
     "showTitle": false,
     "title": ""
    }
   },
   "outputs": [
    {
     "output_type": "stream",
     "name": "stdout",
     "output_type": "stream",
     "text": [
      "Datos transformados:\n    Nombre  Edad  Salario  Salario Anual  Salario Incrementado\n0    Alice  24.0    50000         600000               55000.0\n1      Bob  27.0    60000         720000               66000.0\n2  Charlie  22.0    45000         540000               49500.0\n3    David  32.0    80000         960000               88000.0\n4      Eva  29.0    70000         840000               77000.0\n\nFiltrado por Edad > 25:\n  Nombre  Edad  Salario  Salario Anual  Salario Incrementado\n1    Bob  27.0    60000         720000               66000.0\n3  David  32.0    80000         960000               88000.0\n4    Eva  29.0    70000         840000               77000.0\n\nFiltrado por Salario > 60000:\n  Nombre  Edad  Salario  Salario Anual  Salario Incrementado\n3  David  32.0    80000         960000               88000.0\n4    Eva  29.0    70000         840000               77000.0\n\nDatos agregados por Departamento:\n                   Salario  Edad\nDepartamento                    \nHR            63333.333333    83\nIT            55000.000000    75\n"
     ]
    }
   ],
   "source": [
    "import pandas as pd\n",
    "\n",
    "# Crear un DataFrame de ejemplo\n",
    "data = {\n",
    "    'Nombre': ['Alice', 'Bob', 'Charlie', 'David', 'Eva'],\n",
    "    'Edad': [24, 27, 22, 32, 29],\n",
    "    'Salario': [50000, 60000, 45000, 80000, 70000]\n",
    "}\n",
    "df = pd.DataFrame(data)\n",
    "\n",
    "# Transformación de datos\n",
    "df['Salario Anual'] = df['Salario'] * 12\n",
    "df['Edad'] = df['Edad'].astype(float)\n",
    "df['Salario Incrementado'] = df['Salario'].apply(lambda x: x * 1.1)\n",
    "\n",
    "print(\"Datos transformados:\")\n",
    "print(df)\n",
    "\n",
    "# Filtrado de datos\n",
    "filtro_edad = df[df['Edad'] > 25]\n",
    "print(\"\\nFiltrado por Edad > 25:\")\n",
    "print(filtro_edad)\n",
    "\n",
    "filtro_salario = df[df['Salario'] > 60000]\n",
    "print(\"\\nFiltrado por Salario > 60000:\")\n",
    "print(filtro_salario)\n",
    "\n",
    "# Crear un DataFrame de ejemplo con una columna adicional para la agregación\n",
    "data = {\n",
    "    'Nombre': ['Alice', 'Bob', 'Charlie', 'David', 'Eva', 'Frank'],\n",
    "    'Edad': [24, 27, 22, 32, 29, 24],\n",
    "    'Salario': [50000, 60000, 45000, 80000, 70000, 50000],\n",
    "    'Departamento': ['IT', 'HR', 'IT', 'HR', 'IT', 'HR']\n",
    "}\n",
    "df = pd.DataFrame(data)\n",
    "\n",
    "# Agregación de datos\n",
    "agrupado = df.groupby('Departamento').agg({\n",
    "    'Salario': 'mean',\n",
    "    'Edad': 'sum'\n",
    "})\n",
    "\n",
    "print(\"\\nDatos agregados por Departamento:\")\n",
    "print(agrupado)\n"
   ]
  },
  {
   "cell_type": "markdown",
   "metadata": {
    "application/vnd.databricks.v1+cell": {
     "cellMetadata": {
      "byteLimit": 2048000,
      "rowLimit": 10000
     },
     "inputWidgets": {},
     "nuid": "bdde7f4e-8382-475c-b706-63bd67b1dbde",
     "showTitle": false,
     "title": ""
    }
   },
   "source": [
    "###Clase 2: Manipulación Avanzada de Cadenas de Texto\n",
    "* Expresiones regulares en Python.\n",
    "* Uso de módulos avanzados como re y regex para manipular texto de manera eficiente.\n",
    "* Aplicaciones en análisis de texto y minería de datos."
   ]
  },
  {
   "cell_type": "markdown",
   "metadata": {
    "application/vnd.databricks.v1+cell": {
     "cellMetadata": {
      "byteLimit": 2048000,
      "rowLimit": 10000
     },
     "inputWidgets": {},
     "nuid": "7f2db41d-34df-49cb-81b6-79853b4534e0",
     "showTitle": false,
     "title": ""
    }
   },
   "source": [
    "# **▶ Expresiones Regulares en Python**\n",
    "\n",
    "Las expresiones regulares (regex o regexp) son una herramienta poderosa para la manipulación y búsqueda de cadenas de texto. Permiten definir patrones complejos para la coincidencia y manipulación de texto. En Python, el módulo re proporciona funciones para trabajar con expresiones regulares."
   ]
  },
  {
   "cell_type": "markdown",
   "metadata": {
    "application/vnd.databricks.v1+cell": {
     "cellMetadata": {
      "byteLimit": 2048000,
      "rowLimit": 10000
     },
     "inputWidgets": {},
     "nuid": "e9f901d3-e0f3-49f9-b067-215cd20c0049",
     "showTitle": false,
     "title": ""
    }
   },
   "source": [
    "---\n",
    "#1. Introducción a las Expresiones Regulares\n",
    "---\n",
    "Una expresión regular es una cadena que define un patrón de búsqueda. Este patrón puede ser utilizado para realizar búsquedas, reemplazos, y validaciones de texto.\n",
    "\n",
    "**Conceptos Básicos:**\n",
    "\n",
    "* **Literals:** Caracteres que coinciden consigo mismos. Ej. \"a\", \"1\", \"b\".\n",
    "* **Metacaracteres:** Caracteres con significados especiales. Ej. . (cualquier carácter), ^ (inicio de la cadena), $ (fin de la cadena).\n",
    "\n",
    "> Ejemplo Simple:"
   ]
  },
  {
   "cell_type": "code",
   "execution_count": 0,
   "metadata": {
    "application/vnd.databricks.v1+cell": {
     "cellMetadata": {
      "byteLimit": 2048000,
      "rowLimit": 10000
     },
     "inputWidgets": {},
     "nuid": "9501b356-2488-4d8e-a2c6-4b5a4449a9a0",
     "showTitle": false,
     "title": ""
    }
   },
   "outputs": [
    {
     "output_type": "stream",
     "name": "stdout",
     "output_type": "stream",
     "text": [
      "['Python', 'Python']\n"
     ]
    }
   ],
   "source": [
    "import re\n",
    "\n",
    "# Patrón para buscar la palabra 'Python'\n",
    "patron = r'Python'\n",
    "texto = \"Estoy aprendiendo Python y me gusta Python.\"\n",
    "\n",
    "# Buscar todas las coincidencias\n",
    "coincidencias = re.findall(patron, texto)\n",
    "print(coincidencias)  # Salida: ['Python', 'Python']\n"
   ]
  },
  {
   "cell_type": "markdown",
   "metadata": {
    "application/vnd.databricks.v1+cell": {
     "cellMetadata": {
      "byteLimit": 2048000,
      "rowLimit": 10000
     },
     "inputWidgets": {},
     "nuid": "7034ecfe-52c0-401e-b180-46f7ebf181bd",
     "showTitle": false,
     "title": ""
    }
   },
   "source": [
    "---\n",
    "#2. Funciones Comunes del Módulo re\n",
    "---\n",
    "* **re.search():** Busca el patrón en la cadena y devuelve el primer match.\n",
    "* **re.match():** Comprueba si el patrón coincide al inicio de la cadena.\n",
    "* **re.findall():** Devuelve una lista con todas las coincidencias del patrón en la cadena.\n",
    "* **re.finditer():** Devuelve un iterador con todas las coincidencias del patrón en la cadena.\n",
    "* **re.sub():** Reemplaza las coincidencias del patrón con otra cadena.\n",
    "\n",
    ">Ejemplo de Uso:"
   ]
  },
  {
   "cell_type": "code",
   "execution_count": 0,
   "metadata": {
    "application/vnd.databricks.v1+cell": {
     "cellMetadata": {
      "byteLimit": 2048000,
      "rowLimit": 10000
     },
     "inputWidgets": {},
     "nuid": "27e5c5c6-5f15-46eb-b589-aea1575dc2b8",
     "showTitle": false,
     "title": ""
    }
   },
   "outputs": [
    {
     "output_type": "stream",
     "name": "stdout",
     "output_type": "stream",
     "text": [
      "Número encontrado: 123-456-7890\nNúmeros encontrados: ['123-456-7890']\nTexto modificado: El número de teléfono es XXX-XXX-XXXX.\n"
     ]
    }
   ],
   "source": [
    "import re\n",
    "\n",
    "# Texto de ejemplo\n",
    "texto = \"El número de teléfono es 123-456-7890.\"\n",
    "\n",
    "# Patrón para buscar un número de teléfono\n",
    "patron = r'\\d{3}-\\d{3}-\\d{4}'\n",
    "\n",
    "# re.search\n",
    "match = re.search(patron, texto)\n",
    "if match:\n",
    "    print(\"Número encontrado:\", match.group())  # Salida: Número encontrado: 123-456-7890\n",
    "\n",
    "# re.findall\n",
    "numeros = re.findall(patron, texto)\n",
    "print(\"Números encontrados:\", numeros)  # Salida: Números encontrados: ['123-456-7890']\n",
    "\n",
    "# re.sub\n",
    "texto_modificado = re.sub(patron, 'XXX-XXX-XXXX', texto)\n",
    "print(\"Texto modificado:\", texto_modificado)  # Salida: Texto modificado: El número de teléfono es XXX-XXX-XXXX.\n"
   ]
  },
  {
   "cell_type": "markdown",
   "metadata": {
    "application/vnd.databricks.v1+cell": {
     "cellMetadata": {
      "byteLimit": 2048000,
      "rowLimit": 10000
     },
     "inputWidgets": {},
     "nuid": "96daa499-9f7a-4b2b-b64d-93b9234d9ca8",
     "showTitle": false,
     "title": ""
    }
   },
   "source": [
    "---\n",
    "#3. Metacaracteres y Cuantificadores\n",
    "---\n",
    "\n",
    "**Metacaracteres:**\n",
    "\n",
    "* **.:** Cualquier carácter excepto el salto de línea.\n",
    "* **^:** Inicio de la cadena.\n",
    "* **$:** Fin de la cadena.\n",
    "* **\\:** Escapa un metacarácter (por ejemplo, \\. para buscar un punto literal).\n",
    "\n",
    "**Cuantificadores:**\n",
    "\n",
    "* ***:** 0 o más repeticiones.\n",
    "* **+:** 1 o más repeticiones.\n",
    "* **?:** 0 o 1 repetición.\n",
    "* **{n}:** Exactamente n repeticiones.\n",
    "* **{n,m}:** Entre n y m repeticiones.\n",
    "\n",
    ">Ejemplo de Metacaracteres y Cuantificadores:"
   ]
  },
  {
   "cell_type": "code",
   "execution_count": 0,
   "metadata": {
    "application/vnd.databricks.v1+cell": {
     "cellMetadata": {
      "byteLimit": 2048000,
      "rowLimit": 10000
     },
     "inputWidgets": {},
     "nuid": "74449e6f-3288-499e-bee5-6020ac6fb1fc",
     "showTitle": false,
     "title": ""
    }
   },
   "outputs": [
    {
     "output_type": "stream",
     "name": "stdout",
     "output_type": "stream",
     "text": [
      "['Hola mundo! Hola Python! Hola regex!']\n"
     ]
    }
   ],
   "source": [
    "import re\n",
    "\n",
    "# Texto de ejemplo\n",
    "texto = \"Hola mundo! Hola Python! Hola regex!\"\n",
    "\n",
    "# Patrón para buscar 'Hola' seguido de cualquier carácter 0 o más veces\n",
    "patron = r'Hola.*'\n",
    "\n",
    "coincidencias = re.findall(patron, texto)\n",
    "print(coincidencias)  # Salida: ['Hola mundo! Hola Python! Hola regex!']\n"
   ]
  },
  {
   "cell_type": "markdown",
   "metadata": {
    "application/vnd.databricks.v1+cell": {
     "cellMetadata": {
      "byteLimit": 2048000,
      "rowLimit": 10000
     },
     "inputWidgets": {},
     "nuid": "27defbd7-dd29-4ba8-8dba-40d2a8f84fed",
     "showTitle": false,
     "title": ""
    }
   },
   "source": [
    "---\n",
    "#4. Grupos y Backreferences\n",
    "---\n",
    "\n",
    "**Grupos:** Permiten capturar partes de la coincidencia que luego pueden ser referenciadas o manipuladas.\n",
    "\n",
    "**Backreferences:** Referencias a los grupos capturados.\n",
    "\n",
    ">Ejemplo de Grupos y Backreferences:"
   ]
  },
  {
   "cell_type": "code",
   "execution_count": 0,
   "metadata": {
    "application/vnd.databricks.v1+cell": {
     "cellMetadata": {
      "byteLimit": 2048000,
      "rowLimit": 10000
     },
     "inputWidgets": {},
     "nuid": "d453abcc-3618-42e4-8773-32a1b439a69f",
     "showTitle": false,
     "title": ""
    }
   },
   "outputs": [
    {
     "output_type": "stream",
     "name": "stdout",
     "output_type": "stream",
     "text": [
      "[('ejemplo', 'example.com'), ('otro', 'ejemplo.com')]\nTexto modificado: Mi correo es ejemplo@dominio.com y tu correo es otro@dominio.com.\n"
     ]
    }
   ],
   "source": [
    "import re\n",
    "\n",
    "# Texto de ejemplo\n",
    "texto = \"Mi correo es ejemplo@example.com y tu correo es otro@ejemplo.com.\"\n",
    "\n",
    "# Patrón para capturar correos electrónicos\n",
    "patron = r'(\\w+)@(\\w+\\.\\w+)'\n",
    "\n",
    "# Buscar y capturar grupos\n",
    "coincidencias = re.findall(patron, texto)\n",
    "print(coincidencias)  # Salida: [('ejemplo', 'example.com'), ('otro', 'ejemplo.com')]\n",
    "\n",
    "# Reemplazar dominios en correos electrónicos\n",
    "texto_modificado = re.sub(patron, r'\\1@dominio.com', texto)\n",
    "print(\"Texto modificado:\", texto_modificado)  # Salida: Mi correo es ejemplo@dominio.com y tu correo es otro@dominio.com.\n"
   ]
  },
  {
   "cell_type": "markdown",
   "metadata": {
    "application/vnd.databricks.v1+cell": {
     "cellMetadata": {
      "byteLimit": 2048000,
      "rowLimit": 10000
     },
     "inputWidgets": {},
     "nuid": "819a7eb5-7505-478a-9e27-ffff6ba1db1d",
     "showTitle": false,
     "title": ""
    }
   },
   "source": [
    "---\n",
    "#5. Uso de Flags\n",
    "---\n",
    "Los flags permiten modificar el comportamiento de las expresiones regulares.\n",
    "\n",
    "**Flags Comunes:**\n",
    "\n",
    "* **re.IGNORECASE o re.I:** Ignora mayúsculas y minúsculas.\n",
    "* **re.MULTILINE o re.M:** Trata la cadena como múltiples líneas.\n",
    "* **re.DOTALL o re.S:** Hace que . coincida con cualquier carácter, incluido el salto de línea.\n",
    "\n",
    ">Ejemplo de Uso de Flags:"
   ]
  },
  {
   "cell_type": "code",
   "execution_count": 0,
   "metadata": {
    "application/vnd.databricks.v1+cell": {
     "cellMetadata": {
      "byteLimit": 2048000,
      "rowLimit": 10000
     },
     "inputWidgets": {},
     "nuid": "d60a969c-d47e-44a1-b818-cc38efe328c4",
     "showTitle": false,
     "title": ""
    }
   },
   "outputs": [
    {
     "output_type": "stream",
     "name": "stdout",
     "output_type": "stream",
     "text": [
      "['Hola', 'Hola']\n['Hola', 'Hola']\n"
     ]
    }
   ],
   "source": [
    "import re\n",
    "\n",
    "# Texto de ejemplo\n",
    "texto = \"Hola mundo!\\nHola Python!\"\n",
    "\n",
    "# Patrón para buscar 'Hola' ignorando mayúsculas y minúsculas\n",
    "patron = r'hola'\n",
    "\n",
    "# Buscar con flag re.IGNORECASE\n",
    "coincidencias = re.findall(patron, texto, flags=re.IGNORECASE)\n",
    "print(coincidencias)  # Salida: ['Hola', 'Hola']\n",
    "\n",
    "# Buscar 'Hola' en modo multilínea\n",
    "coincidencias = re.findall(r'^Hola', texto, flags=re.MULTILINE)\n",
    "print(coincidencias)  # Salida: ['Hola', 'Hola']\n"
   ]
  },
  {
   "cell_type": "markdown",
   "metadata": {
    "application/vnd.databricks.v1+cell": {
     "cellMetadata": {
      "byteLimit": 2048000,
      "rowLimit": 10000
     },
     "inputWidgets": {},
     "nuid": "65ae6609-c00f-4572-890f-bd744e7607a5",
     "showTitle": false,
     "title": ""
    }
   },
   "source": [
    "# **Resumen**\n",
    "\n",
    "Las expresiones regulares son una herramienta esencial para la manipulación de texto en Python. Con el módulo **re**, puedes definir patrones de búsqueda complejos, realizar validaciones y transformaciones de texto de manera eficiente. La comprensión y el uso adecuado de metacaracteres, cuantificadores, grupos, y flags pueden facilitar enormemente el trabajo con cadenas de texto."
   ]
  },
  {
   "cell_type": "markdown",
   "metadata": {
    "application/vnd.databricks.v1+cell": {
     "cellMetadata": {
      "byteLimit": 2048000,
      "rowLimit": 10000
     },
     "inputWidgets": {},
     "nuid": "1b4ae186-7bd0-4b24-afec-f7a07b3f7e12",
     "showTitle": false,
     "title": ""
    }
   },
   "source": [
    "# **▶ Uso de Módulos Avanzados como re y regex para Manipular Texto de Manera Eficiente**\n",
    "Python proporciona herramientas poderosas para la manipulación de texto, especialmente mediante el uso de expresiones regulares. Los módulos **re** y **regex** permiten realizar operaciones avanzadas y eficientes en cadenas de texto. Aunque **re** es el módulo estándar, **regex** es una biblioteca externa que ofrece funcionalidades adicionales y una sintaxis más avanzada."
   ]
  },
  {
   "cell_type": "markdown",
   "metadata": {
    "application/vnd.databricks.v1+cell": {
     "cellMetadata": {
      "byteLimit": 2048000,
      "rowLimit": 10000
     },
     "inputWidgets": {},
     "nuid": "5191f141-5894-4f35-884d-180585633726",
     "showTitle": false,
     "title": ""
    }
   },
   "source": [
    "---\n",
    "#1. Módulo re\n",
    "---\n",
    "El módulo re es parte de la biblioteca estándar de Python y permite trabajar con expresiones regulares.\n",
    "\n",
    "**Funciones Comunes del Módulo re:**\n",
    "\n",
    "* **re.search():** Busca el primer patrón que coincide en la cadena.\n",
    "* **re.match():** Verifica si el patrón coincide al inicio de la cadena.\n",
    "* **re.findall():** Encuentra todas las coincidencias del patrón en la cadena.\n",
    "* **re.finditer():** Encuentra todas las coincidencias y devuelve un iterador.\n",
    "* **re.sub():** Reemplaza las coincidencias del patrón con otra cadena.\n",
    "* **re.split():** Divide la cadena utilizando el patrón como delimitador.\n",
    "\n",
    ">Ejemplo de Uso del Módulo re:"
   ]
  },
  {
   "cell_type": "code",
   "execution_count": 0,
   "metadata": {
    "application/vnd.databricks.v1+cell": {
     "cellMetadata": {
      "byteLimit": 2048000,
      "rowLimit": 10000
     },
     "inputWidgets": {},
     "nuid": "f7d9e7b9-f47a-4c89-8ebd-ab33d3f0f136",
     "showTitle": false,
     "title": ""
    }
   },
   "outputs": [
    {
     "output_type": "stream",
     "name": "stdout",
     "output_type": "stream",
     "text": [
      "Precios encontrados: ['$100.50']\nTexto modificado: El precio es $XXX.XX y el descuento es del 20%.\n"
     ]
    }
   ],
   "source": [
    "import re\n",
    "\n",
    "texto = \"El precio es $100.50 y el descuento es del 20%.\"\n",
    "\n",
    "# Buscar precios en el texto\n",
    "patron_precio = r'\\$\\d+\\.\\d{2}'\n",
    "precios = re.findall(patron_precio, texto)\n",
    "print(\"Precios encontrados:\", precios)  # Salida: Precios encontrados: ['$100.50']\n",
    "\n",
    "# Reemplazar precios por un valor genérico\n",
    "texto_modificado = re.sub(patron_precio, '$XXX.XX', texto)\n",
    "print(\"Texto modificado:\", texto_modificado)  # Salida: El precio es $XXX.XX y el descuento es del 20%.\n"
   ]
  },
  {
   "cell_type": "markdown",
   "metadata": {
    "application/vnd.databricks.v1+cell": {
     "cellMetadata": {
      "byteLimit": 2048000,
      "rowLimit": 10000
     },
     "inputWidgets": {},
     "nuid": "e80c9d68-9ca5-4609-a0cc-78f64fa7e1f8",
     "showTitle": false,
     "title": ""
    }
   },
   "source": [
    "---\n",
    "#2. Módulo regex\n",
    "---\n",
    "El módulo **regex** es una biblioteca externa que se puede instalar mediante pip install **regex**. Ofrece funcionalidades adicionales como:\n",
    "\n",
    "* Mayor compatibilidad con Unicode.\n",
    "* Soporte para coincidencias recursivas.\n",
    "* Mayor control sobre los límites de repetición.\n",
    "* Coincidencias fuzzy (difusas).\n",
    "\n",
    "**Funciones y Características del Módulo regex:**\n",
    "\n",
    "* **regex.search(), regex.match(), regex.findall(), regex.finditer(), regex.sub(), regex.split():** Funcionan de manera similar a las del módulo re, pero con mejoras y características adicionales.\n",
    "* **Coincidencias Recursivas:** Permiten patrones que pueden referenciarse a sí mismos.\n",
    "* **Coincidencias Fuzzy:** Permiten coincidencias aproximadas.\n",
    "\n",
    ">Ejemplo de Uso del Módulo regex:"
   ]
  },
  {
   "cell_type": "code",
   "execution_count": 0,
   "metadata": {
    "application/vnd.databricks.v1+cell": {
     "cellMetadata": {
      "byteLimit": 2048000,
      "rowLimit": 10000
     },
     "inputWidgets": {},
     "nuid": "0cda9131-dc98-467b-b422-bc38be671061",
     "showTitle": false,
     "title": ""
    }
   },
   "outputs": [
    {
     "output_type": "display_data",
     "data": {
      "text/plain": [
       "\u001B[0;31m---------------------------------------------------------------------------\u001B[0m\n",
       "\u001B[0;31mModuleNotFoundError\u001B[0m                       Traceback (most recent call last)\n",
       "File \u001B[0;32m<command-42324771517049>:1\u001B[0m\n",
       "\u001B[0;32m----> 1\u001B[0m \u001B[38;5;28;01mimport\u001B[39;00m \u001B[38;5;21;01mregex\u001B[39;00m \u001B[38;5;28;01mas\u001B[39;00m \u001B[38;5;21;01mre\u001B[39;00m\n",
       "\u001B[1;32m      3\u001B[0m \u001B[38;5;66;03m# Texto de ejemplo con emojis y caracteres especiales\u001B[39;00m\n",
       "\u001B[1;32m      4\u001B[0m texto \u001B[38;5;241m=\u001B[39m \u001B[38;5;124m\"\u001B[39m\u001B[38;5;124mPython es divertido 🐍. Programar en Python3 es aún más divertido! 🥳\u001B[39m\u001B[38;5;124m\"\u001B[39m\n",
       "\n",
       "File \u001B[0;32m/databricks/python_shell/dbruntime/PythonPackageImportsInstrumentation/__init__.py:171\u001B[0m, in \u001B[0;36m_create_import_patch.<locals>.import_patch\u001B[0;34m(name, globals, locals, fromlist, level)\u001B[0m\n",
       "\u001B[1;32m    166\u001B[0m thread_local\u001B[38;5;241m.\u001B[39m_nest_level \u001B[38;5;241m+\u001B[39m\u001B[38;5;241m=\u001B[39m \u001B[38;5;241m1\u001B[39m\n",
       "\u001B[1;32m    168\u001B[0m \u001B[38;5;28;01mtry\u001B[39;00m:\n",
       "\u001B[1;32m    169\u001B[0m     \u001B[38;5;66;03m# Import the desired module. If you’re seeing this while debugging a failed import,\u001B[39;00m\n",
       "\u001B[1;32m    170\u001B[0m     \u001B[38;5;66;03m# look at preceding stack frames for relevant error information.\u001B[39;00m\n",
       "\u001B[0;32m--> 171\u001B[0m     original_result \u001B[38;5;241m=\u001B[39m \u001B[43mpython_builtin_import\u001B[49m\u001B[43m(\u001B[49m\u001B[43mname\u001B[49m\u001B[43m,\u001B[49m\u001B[43m \u001B[49m\u001B[38;5;28;43mglobals\u001B[39;49m\u001B[43m,\u001B[49m\u001B[43m \u001B[49m\u001B[38;5;28;43mlocals\u001B[39;49m\u001B[43m,\u001B[49m\u001B[43m \u001B[49m\u001B[43mfromlist\u001B[49m\u001B[43m,\u001B[49m\u001B[43m \u001B[49m\u001B[43mlevel\u001B[49m\u001B[43m)\u001B[49m\n",
       "\u001B[1;32m    173\u001B[0m     is_root_import \u001B[38;5;241m=\u001B[39m thread_local\u001B[38;5;241m.\u001B[39m_nest_level \u001B[38;5;241m==\u001B[39m \u001B[38;5;241m1\u001B[39m\n",
       "\u001B[1;32m    174\u001B[0m     \u001B[38;5;66;03m# `level` represents the number of leading dots in a relative import statement.\u001B[39;00m\n",
       "\u001B[1;32m    175\u001B[0m     \u001B[38;5;66;03m# If it's zero, then this is an absolute import.\u001B[39;00m\n",
       "\n",
       "\u001B[0;31mModuleNotFoundError\u001B[0m: No module named 'regex'"
      ]
     },
     "metadata": {
      "application/vnd.databricks.v1+output": {
       "arguments": {},
       "data": "\u001B[0;31m---------------------------------------------------------------------------\u001B[0m\n\u001B[0;31mModuleNotFoundError\u001B[0m                       Traceback (most recent call last)\nFile \u001B[0;32m<command-42324771517049>:1\u001B[0m\n\u001B[0;32m----> 1\u001B[0m \u001B[38;5;28;01mimport\u001B[39;00m \u001B[38;5;21;01mregex\u001B[39;00m \u001B[38;5;28;01mas\u001B[39;00m \u001B[38;5;21;01mre\u001B[39;00m\n\u001B[1;32m      3\u001B[0m \u001B[38;5;66;03m# Texto de ejemplo con emojis y caracteres especiales\u001B[39;00m\n\u001B[1;32m      4\u001B[0m texto \u001B[38;5;241m=\u001B[39m \u001B[38;5;124m\"\u001B[39m\u001B[38;5;124mPython es divertido 🐍. Programar en Python3 es aún más divertido! 🥳\u001B[39m\u001B[38;5;124m\"\u001B[39m\n\nFile \u001B[0;32m/databricks/python_shell/dbruntime/PythonPackageImportsInstrumentation/__init__.py:171\u001B[0m, in \u001B[0;36m_create_import_patch.<locals>.import_patch\u001B[0;34m(name, globals, locals, fromlist, level)\u001B[0m\n\u001B[1;32m    166\u001B[0m thread_local\u001B[38;5;241m.\u001B[39m_nest_level \u001B[38;5;241m+\u001B[39m\u001B[38;5;241m=\u001B[39m \u001B[38;5;241m1\u001B[39m\n\u001B[1;32m    168\u001B[0m \u001B[38;5;28;01mtry\u001B[39;00m:\n\u001B[1;32m    169\u001B[0m     \u001B[38;5;66;03m# Import the desired module. If you’re seeing this while debugging a failed import,\u001B[39;00m\n\u001B[1;32m    170\u001B[0m     \u001B[38;5;66;03m# look at preceding stack frames for relevant error information.\u001B[39;00m\n\u001B[0;32m--> 171\u001B[0m     original_result \u001B[38;5;241m=\u001B[39m \u001B[43mpython_builtin_import\u001B[49m\u001B[43m(\u001B[49m\u001B[43mname\u001B[49m\u001B[43m,\u001B[49m\u001B[43m \u001B[49m\u001B[38;5;28;43mglobals\u001B[39;49m\u001B[43m,\u001B[49m\u001B[43m \u001B[49m\u001B[38;5;28;43mlocals\u001B[39;49m\u001B[43m,\u001B[49m\u001B[43m \u001B[49m\u001B[43mfromlist\u001B[49m\u001B[43m,\u001B[49m\u001B[43m \u001B[49m\u001B[43mlevel\u001B[49m\u001B[43m)\u001B[49m\n\u001B[1;32m    173\u001B[0m     is_root_import \u001B[38;5;241m=\u001B[39m thread_local\u001B[38;5;241m.\u001B[39m_nest_level \u001B[38;5;241m==\u001B[39m \u001B[38;5;241m1\u001B[39m\n\u001B[1;32m    174\u001B[0m     \u001B[38;5;66;03m# `level` represents the number of leading dots in a relative import statement.\u001B[39;00m\n\u001B[1;32m    175\u001B[0m     \u001B[38;5;66;03m# If it's zero, then this is an absolute import.\u001B[39;00m\n\n\u001B[0;31mModuleNotFoundError\u001B[0m: No module named 'regex'",
       "errorSummary": "<span class='ansi-red-fg'>ModuleNotFoundError</span>: No module named 'regex'",
       "errorTraceType": "ansi",
       "metadata": {},
       "type": "ipynbError"
      }
     },
     "output_type": "display_data"
    }
   ],
   "source": [
    "import regex as re\n",
    "\n",
    "# Texto de ejemplo con emojis y caracteres especiales\n",
    "texto = \"Python es divertido 🐍. Programar en Python3 es aún más divertido! 🥳\"\n",
    "\n",
    "# Patrón para buscar la palabra 'Python' seguida de un dígito opcional\n",
    "patron = r'Python\\d?'\n",
    "\n",
    "# Buscar todas las coincidencias\n",
    "coincidencias = re.findall(patron, texto)\n",
    "print(\"Coincidencias encontradas:\", coincidencias)  # Salida: Coincidencias encontradas: ['Python', 'Python3']\n",
    "\n",
    "# Coincidencias fuzzy (difusas)\n",
    "patron_fuzzy = r'Python{e<=1}'\n",
    "coincidencias_fuzzy = re.findall(patron_fuzzy, texto)\n",
    "print(\"Coincidencias fuzzy encontradas:\", coincidencias_fuzzy)  # Salida: Coincidencias fuzzy encontradas: ['Python', 'Python3']\n"
   ]
  },
  {
   "cell_type": "markdown",
   "metadata": {
    "application/vnd.databricks.v1+cell": {
     "cellMetadata": {
      "byteLimit": 2048000,
      "rowLimit": 10000
     },
     "inputWidgets": {},
     "nuid": "55d2fd54-afaf-4c19-8cdc-35c0a5a69afc",
     "showTitle": false,
     "title": ""
    }
   },
   "source": [
    "---\n",
    "#3. Manipulación Avanzada de Texto\n",
    "---\n",
    ">**Ejemplo Avanzado: Extracción y Formateo de Datos de un Archivo de Registro**\n",
    "\n",
    "Supongamos que tenemos un archivo de registro con múltiples líneas de texto, cada una con una marca de tiempo, un nivel de log, y un mensaje.\n",
    "\n",
    "**Archivo de Log de Ejemplo (log.txt):**"
   ]
  },
  {
   "cell_type": "code",
   "execution_count": 0,
   "metadata": {
    "application/vnd.databricks.v1+cell": {
     "cellMetadata": {
      "byteLimit": 2048000,
      "rowLimit": 10000
     },
     "inputWidgets": {},
     "nuid": "43bc9ece-30cb-4de8-96e2-24bb504c9549",
     "showTitle": false,
     "title": ""
    }
   },
   "outputs": [
    {
     "output_type": "display_data",
     "data": {
      "text/plain": [
       ""
      ]
     },
     "metadata": {
      "application/vnd.databricks.v1+output": {
       "arguments": {},
       "data": "",
       "errorSummary": "Command skipped",
       "errorTraceType": "ansi",
       "metadata": {},
       "type": "ipynbError"
      }
     },
     "output_type": "display_data"
    }
   ],
   "source": [
    "2024-05-30 10:00:00 INFO Inicio del sistema.\n",
    "2024-05-30 10:05:23 WARNING Memoria disponible baja.\n",
    "2024-05-30 10:10:45 ERROR Fallo en el módulo de red.\n",
    "2024-05-30 10:15:50 INFO Proceso completado.\n"
   ]
  },
  {
   "cell_type": "markdown",
   "metadata": {
    "application/vnd.databricks.v1+cell": {
     "cellMetadata": {
      "byteLimit": 2048000,
      "rowLimit": 10000
     },
     "inputWidgets": {},
     "nuid": "3b0f17ab-05c1-4919-82aa-467e25d5bc10",
     "showTitle": false,
     "title": ""
    }
   },
   "source": [
    "##**Código para Extraer y Formatear Datos del Archivo de Registro:**"
   ]
  },
  {
   "cell_type": "code",
   "execution_count": 0,
   "metadata": {
    "application/vnd.databricks.v1+cell": {
     "cellMetadata": {
      "byteLimit": 2048000,
      "rowLimit": 10000
     },
     "inputWidgets": {},
     "nuid": "d53bf284-4297-49b4-be93-6c7f9a5dbf44",
     "showTitle": false,
     "title": ""
    }
   },
   "outputs": [
    {
     "output_type": "display_data",
     "data": {
      "text/plain": [
       ""
      ]
     },
     "metadata": {
      "application/vnd.databricks.v1+output": {
       "arguments": {},
       "data": "",
       "errorSummary": "Command skipped",
       "errorTraceType": "ansi",
       "metadata": {},
       "type": "ipynbError"
      }
     },
     "output_type": "display_data"
    }
   ],
   "source": [
    "import re\n",
    "\n",
    "# Leer el archivo de log\n",
    "with open('log.txt', 'r') as file:\n",
    "    logs = file.readlines()\n",
    "\n",
    "# Patrón para extraer marca de tiempo, nivel de log, y mensaje\n",
    "patron = r'(\\d{4}-\\d{2}-\\d{2} \\d{2}:\\d{2}:\\d{2}) (\\w+) (.*)'\n",
    "\n",
    "# Procesar cada línea del archivo de log\n",
    "for linea in logs:\n",
    "    match = re.match(patron, linea)\n",
    "    if match:\n",
    "        timestamp, nivel, mensaje = match.groups()\n",
    "        print(f\"Timestamp: {timestamp}, Nivel: {nivel}, Mensaje: {mensaje}\")\n",
    "\n",
    "# Salida:\n",
    "# Timestamp: 2024-05-30 10:00:00, Nivel: INFO, Mensaje: Inicio del sistema.\n",
    "# Timestamp: 2024-05-30 10:05:23, Nivel: WARNING, Mensaje: Memoria disponible baja.\n",
    "# Timestamp: 2024-05-30 10:10:45, Nivel: ERROR, Mensaje: Fallo en el módulo de red.\n",
    "# Timestamp: 2024-05-30 10:15:50, Nivel: INFO, Mensaje: Proceso completado.\n"
   ]
  },
  {
   "cell_type": "markdown",
   "metadata": {
    "application/vnd.databricks.v1+cell": {
     "cellMetadata": {
      "byteLimit": 2048000,
      "rowLimit": 10000
     },
     "inputWidgets": {},
     "nuid": "cfc02379-c038-46ab-8089-2cdf1707f830",
     "showTitle": false,
     "title": ""
    }
   },
   "source": [
    ">**Ejemplo Avanzado: Coincidencias Recursivas con regex**"
   ]
  },
  {
   "cell_type": "code",
   "execution_count": 0,
   "metadata": {
    "application/vnd.databricks.v1+cell": {
     "cellMetadata": {
      "byteLimit": 2048000,
      "rowLimit": 10000
     },
     "inputWidgets": {},
     "nuid": "9b64fbfa-c59b-4b71-84e7-e2bc773f7df4",
     "showTitle": false,
     "title": ""
    }
   },
   "outputs": [
    {
     "output_type": "display_data",
     "data": {
      "text/plain": [
       ""
      ]
     },
     "metadata": {
      "application/vnd.databricks.v1+output": {
       "arguments": {},
       "data": "",
       "errorSummary": "Command skipped",
       "errorTraceType": "ansi",
       "metadata": {},
       "type": "ipynbError"
      }
     },
     "output_type": "display_data"
    }
   ],
   "source": [
    "import regex as re\n",
    "\n",
    "# Patrón para buscar etiquetas HTML anidadas\n",
    "patron = r'<(\\w+)(?:[^>]*>.*?</\\1>|[^>]*?/)>'\n",
    "\n",
    "# Texto de ejemplo con etiquetas HTML anidadas\n",
    "texto_html = \"<div><p>Hola <b>mundo</b></p></div>\"\n",
    "\n",
    "# Buscar coincidencias recursivas\n",
    "coincidencias = re.findall(patron, texto_html)\n",
    "print(\"Coincidencias de etiquetas:\", coincidencias)  # Salida: Coincidencias de etiquetas: ['div', 'p', 'b']\n"
   ]
  },
  {
   "cell_type": "code",
   "execution_count": 0,
   "metadata": {
    "application/vnd.databricks.v1+cell": {
     "cellMetadata": {
      "byteLimit": 2048000,
      "rowLimit": 10000
     },
     "inputWidgets": {},
     "nuid": "d022d42c-7af7-4b29-9b75-f52b36807b83",
     "showTitle": false,
     "title": ""
    }
   },
   "outputs": [
    {
     "output_type": "display_data",
     "data": {
      "text/plain": [
       ""
      ]
     },
     "metadata": {
      "application/vnd.databricks.v1+output": {
       "arguments": {},
       "data": "",
       "errorSummary": "Command skipped",
       "errorTraceType": "ansi",
       "metadata": {},
       "type": "ipynbError"
      }
     },
     "output_type": "display_data"
    }
   ],
   "source": [
    "import re\n",
    "\n",
    "def encontrar_etiquetas_anidadas(texto_html):\n",
    "    # Patrón para buscar etiquetas HTML anidadas\n",
    "    patron = r'<(\\w+)(?:[^>]*>.*?</\\1>|[^>]*?/)>'\n",
    "\n",
    "    # Buscar coincidencias de etiquetas HTML de nivel superior\n",
    "    coincidencias = re.findall(patron, texto_html)\n",
    "\n",
    "    return coincidencias\n",
    "\n",
    "# Texto de ejemplo con etiquetas HTML anidadas\n",
    "texto_html = \"<div><p>Hola <b>mundo</b></p></div>\"\n",
    "\n",
    "# Llamar a la función y obtener las coincidencias\n",
    "coincidencias = encontrar_etiquetas_anidadas(texto_html)\n",
    "\n",
    "print(\"Coincidencias de etiquetas:\", coincidencias)  # Salida esperada: ['div', 'p', 'b']\n"
   ]
  },
  {
   "cell_type": "code",
   "execution_count": 0,
   "metadata": {
    "application/vnd.databricks.v1+cell": {
     "cellMetadata": {
      "byteLimit": 2048000,
      "rowLimit": 10000
     },
     "inputWidgets": {},
     "nuid": "03f87a44-770d-4984-9b52-b77edf0a48e2",
     "showTitle": false,
     "title": ""
    }
   },
   "outputs": [
    {
     "output_type": "display_data",
     "data": {
      "text/plain": [
       ""
      ]
     },
     "metadata": {
      "application/vnd.databricks.v1+output": {
       "arguments": {},
       "data": "",
       "errorSummary": "Command skipped",
       "errorTraceType": "ansi",
       "metadata": {},
       "type": "ipynbError"
      }
     },
     "output_type": "display_data"
    }
   ],
   "source": [
    "from bs4 import BeautifulSoup\n",
    "\n",
    "# Texto de ejemplo con etiquetas HTML anidadas\n",
    "texto_html = \"<div><p>Hola <b>mundo</b></p></div>\"\n",
    "\n",
    "# Crear un objeto BeautifulSoup\n",
    "soup = BeautifulSoup(texto_html, 'html.parser')\n",
    "\n",
    "# Encontrar todas las etiquetas\n",
    "etiquetas = [tag.name for tag in soup.find_all()]\n",
    "\n",
    "print(\"Coincidencias de etiquetas:\", etiquetas)  # Salida: ['div', 'p', 'b']\n"
   ]
  },
  {
   "cell_type": "markdown",
   "metadata": {
    "application/vnd.databricks.v1+cell": {
     "cellMetadata": {
      "byteLimit": 2048000,
      "rowLimit": 10000
     },
     "inputWidgets": {},
     "nuid": "ac73527b-2032-4b75-8b8a-2492f54f1e58",
     "showTitle": false,
     "title": ""
    }
   },
   "source": [
    "#Resumen\n",
    "\n",
    "El uso de módulos avanzados como re y regex en Python permite manipular texto de manera eficiente y con gran flexibilidad. Estas herramientas son esenciales para tareas como la búsqueda y reemplazo de patrones complejos, la validación de entradas, y la extracción de datos estructurados de texto no estructurado. Mientras que el módulo re es suficiente para muchas tareas comunes, regex proporciona funcionalidades adicionales para necesidades más avanzadas."
   ]
  },
  {
   "cell_type": "markdown",
   "metadata": {
    "application/vnd.databricks.v1+cell": {
     "cellMetadata": {
      "byteLimit": 2048000,
      "rowLimit": 10000
     },
     "inputWidgets": {},
     "nuid": "be7983f3-6378-4c45-9cbe-97b60794b2b6",
     "showTitle": false,
     "title": ""
    }
   },
   "source": [
    "# **▶ Aplicaciones en Análisis de Texto y Minería de Datos**\n",
    "\n",
    "El análisis de texto y la minería de datos son áreas fundamentales en ciencia de datos y aprendizaje automático. Estas técnicas se utilizan para extraer información útil y patrones de grandes volúmenes de texto. Aquí exploraremos algunas aplicaciones comunes y herramientas en Python que facilitan estas tareas."
   ]
  },
  {
   "cell_type": "markdown",
   "metadata": {
    "application/vnd.databricks.v1+cell": {
     "cellMetadata": {
      "byteLimit": 2048000,
      "rowLimit": 10000
     },
     "inputWidgets": {},
     "nuid": "99e8c0f3-22ac-4835-b6b5-e2cf5a3dd92a",
     "showTitle": false,
     "title": ""
    }
   },
   "source": [
    "---\n",
    "#1. Preprocesamiento de Texto\n",
    "---\n",
    "El primer paso en cualquier análisis de texto es el preprocesamiento, que incluye limpieza y normalización de datos. Esto asegura que los datos estén en un formato adecuado para el análisis posterior.\n",
    "\n",
    "**Tareas Comunes de Preprocesamiento:**\n",
    "\n",
    "* **Limpieza:** Eliminación de caracteres especiales, números, y puntuación innecesaria.\n",
    "* **Tokenización:** División del texto en palabras o frases.\n",
    "* **Lematización y Stemming:** Reducción de las palabras a su forma base o raíz.\n",
    "* **Eliminación de Stop Words:** Eliminación de palabras comunes que no aportan mucho significado (como \"el\", \"y\", \"de\").\n",
    "\n",
    ">Ejemplo de Preprocesamiento con nltk y re:"
   ]
  },
  {
   "cell_type": "code",
   "execution_count": 0,
   "metadata": {
    "application/vnd.databricks.v1+cell": {
     "cellMetadata": {
      "byteLimit": 2048000,
      "rowLimit": 10000
     },
     "inputWidgets": {},
     "nuid": "8caf8a24-7bf0-4f5e-ad55-8d3866c0443e",
     "showTitle": false,
     "title": ""
    }
   },
   "outputs": [
    {
     "output_type": "display_data",
     "data": {
      "text/plain": [
       ""
      ]
     },
     "metadata": {
      "application/vnd.databricks.v1+output": {
       "arguments": {},
       "data": "",
       "errorSummary": "Command skipped",
       "errorTraceType": "ansi",
       "metadata": {},
       "type": "ipynbError"
      }
     },
     "output_type": "display_data"
    }
   ],
   "source": [
    "import re\n",
    "import nltk\n",
    "from nltk.corpus import stopwords\n",
    "from nltk.stem import WordNetLemmatizer\n",
    "\n",
    "# Descargar recursos necesarios de nltk\n",
    "nltk.download('punkt')\n",
    "nltk.download('stopwords')\n",
    "nltk.download('wordnet')\n",
    "\n",
    "def preprocesar_texto(texto):\n",
    "    # Convertir a minúsculas\n",
    "    texto = texto.lower()\n",
    "\n",
    "    # Eliminar caracteres especiales y números\n",
    "    texto = re.sub(r'[^a-z\\s]', '', texto)\n",
    "\n",
    "    # Tokenizar\n",
    "    tokens = nltk.word_tokenize(texto)\n",
    "\n",
    "    # Eliminar stop words\n",
    "    stop_words = set(stopwords.words('english'))\n",
    "    tokens = [word for word in tokens if word not in stop_words]\n",
    "\n",
    "    # Lematizar\n",
    "    lemmatizer = WordNetLemmatizer()\n",
    "    tokens = [lemmatizer.lemmatize(word) for word in tokens]\n",
    "\n",
    "    return tokens\n",
    "\n",
    "# Ejemplo de uso\n",
    "texto = \"This is a sample text for preprocessing. It includes numbers like 123 and punctuation!\"\n",
    "tokens = preprocesar_texto(texto)\n",
    "print(tokens)\n",
    "# Salida: ['sample', 'text', 'preprocessing', 'includes', 'number', 'like', 'punctuation']\n"
   ]
  },
  {
   "cell_type": "markdown",
   "metadata": {
    "application/vnd.databricks.v1+cell": {
     "cellMetadata": {
      "byteLimit": 2048000,
      "rowLimit": 10000
     },
     "inputWidgets": {},
     "nuid": "beb84d8a-04ef-47b3-a7ce-b4f7e71a9243",
     "showTitle": false,
     "title": ""
    }
   },
   "source": [
    "---\n",
    "#2. Análisis de Frecuencia\n",
    "---\n",
    "Contar la frecuencia de palabras o frases es una técnica básica pero poderosa para entender la importancia y el contenido del texto.\n",
    "\n",
    ">Ejemplo de Análisis de Frecuencia con Counter:"
   ]
  },
  {
   "cell_type": "code",
   "execution_count": 0,
   "metadata": {
    "application/vnd.databricks.v1+cell": {
     "cellMetadata": {
      "byteLimit": 2048000,
      "rowLimit": 10000
     },
     "inputWidgets": {},
     "nuid": "2fc34216-5467-440f-b943-701f6aeddbbe",
     "showTitle": false,
     "title": ""
    }
   },
   "outputs": [
    {
     "output_type": "display_data",
     "data": {
      "text/plain": [
       ""
      ]
     },
     "metadata": {
      "application/vnd.databricks.v1+output": {
       "arguments": {},
       "data": "",
       "errorSummary": "Command skipped",
       "errorTraceType": "ansi",
       "metadata": {},
       "type": "ipynbError"
      }
     },
     "output_type": "display_data"
    }
   ],
   "source": [
    "from collections import Counter\n",
    "\n",
    "# Texto preprocesado de ejemplo\n",
    "tokens = ['sample', 'text', 'preprocessing', 'includes', 'number', 'like', 'punctuation']\n",
    "\n",
    "# Contar la frecuencia de las palabras\n",
    "frecuencia = Counter(tokens)\n",
    "print(frecuencia)\n",
    "# Salida: Counter({'sample': 1, 'text': 1, 'preprocessing': 1, 'includes': 1, 'number': 1, 'like': 1, 'punctuation': 1})\n"
   ]
  },
  {
   "cell_type": "markdown",
   "metadata": {
    "application/vnd.databricks.v1+cell": {
     "cellMetadata": {
      "byteLimit": 2048000,
      "rowLimit": 10000
     },
     "inputWidgets": {},
     "nuid": "ed63a795-d667-44d7-bd07-b1246f000988",
     "showTitle": false,
     "title": ""
    }
   },
   "source": [
    "---\n",
    "#3. Análisis de Sentimientos\n",
    "---\n",
    "El análisis de sentimientos implica determinar la actitud o emoción expresada en un fragmento de texto. Es ampliamente utilizado en análisis de redes sociales, encuestas, y comentarios de productos.\n",
    "\n",
    ">Ejemplo de Análisis de Sentimientos con TextBlob:"
   ]
  },
  {
   "cell_type": "code",
   "execution_count": 0,
   "metadata": {
    "application/vnd.databricks.v1+cell": {
     "cellMetadata": {
      "byteLimit": 2048000,
      "rowLimit": 10000
     },
     "inputWidgets": {},
     "nuid": "81c60878-4c29-46e9-9634-f94079e3ed1b",
     "showTitle": false,
     "title": ""
    }
   },
   "outputs": [
    {
     "output_type": "display_data",
     "data": {
      "text/plain": [
       ""
      ]
     },
     "metadata": {
      "application/vnd.databricks.v1+output": {
       "arguments": {},
       "data": "",
       "errorSummary": "Command skipped",
       "errorTraceType": "ansi",
       "metadata": {},
       "type": "ipynbError"
      }
     },
     "output_type": "display_data"
    }
   ],
   "source": [
    "from textblob import TextBlob\n",
    "\n",
    "# Texto de ejemplo\n",
    "texto = \"I love programming. It is so exciting and fulfilling!\"\n",
    "\n",
    "# Análisis de sentimientos\n",
    "blob = TextBlob(texto)\n",
    "sentimiento = blob.sentiment\n",
    "print(sentimiento)\n",
    "# Salida: Sentiment(polarity=0.4375, subjectivity=0.7)\n"
   ]
  },
  {
   "cell_type": "markdown",
   "metadata": {
    "application/vnd.databricks.v1+cell": {
     "cellMetadata": {
      "byteLimit": 2048000,
      "rowLimit": 10000
     },
     "inputWidgets": {},
     "nuid": "c94f54b1-66ab-40f1-8a6a-eb47c96091e8",
     "showTitle": false,
     "title": ""
    }
   },
   "source": [
    "---\n",
    "#4. Extracción de Información\n",
    "---\n",
    "La extracción de información implica identificar y extraer datos estructurados de texto no estructurado, como nombres, fechas, y entidades.\n",
    "\n",
    ">Ejemplo de Extracción de Entidades con spacy:"
   ]
  },
  {
   "cell_type": "code",
   "execution_count": 0,
   "metadata": {
    "application/vnd.databricks.v1+cell": {
     "cellMetadata": {
      "byteLimit": 2048000,
      "rowLimit": 10000
     },
     "inputWidgets": {},
     "nuid": "6b875f0a-832c-4d20-b137-da9b66534fc1",
     "showTitle": false,
     "title": ""
    }
   },
   "outputs": [
    {
     "output_type": "display_data",
     "data": {
      "text/plain": [
       ""
      ]
     },
     "metadata": {
      "application/vnd.databricks.v1+output": {
       "arguments": {},
       "data": "",
       "errorSummary": "Command skipped",
       "errorTraceType": "ansi",
       "metadata": {},
       "type": "ipynbError"
      }
     },
     "output_type": "display_data"
    }
   ],
   "source": [
    "import spacy\n",
    "\n",
    "# Cargar el modelo de lenguaje en inglés de spaCy\n",
    "nlp = spacy.load('en_core_web_sm')\n",
    "\n",
    "# Texto de ejemplo\n",
    "texto = \"Apple is looking at buying U.K. startup for $1 billion.\"\n",
    "\n",
    "# Procesar el texto\n",
    "doc = nlp(texto)\n",
    "\n",
    "# Extraer entidades nombradas\n",
    "for entidad in doc.ents:\n",
    "    print(entidad.text, entidad.label_)\n",
    "# Salida:\n",
    "# Apple ORG\n",
    "# U.K. GPE\n",
    "# $1 billion MONEY\n"
   ]
  },
  {
   "cell_type": "markdown",
   "metadata": {
    "application/vnd.databricks.v1+cell": {
     "cellMetadata": {
      "byteLimit": 2048000,
      "rowLimit": 10000
     },
     "inputWidgets": {},
     "nuid": "7975444b-a295-4fe8-b141-3756c714d5cd",
     "showTitle": false,
     "title": ""
    }
   },
   "source": [
    "---\n",
    "#5. Modelado de Temas\n",
    "---\n",
    "El modelado de temas es una técnica de minería de textos que permite descubrir automáticamente los temas o tópicos presentes en un conjunto de documentos.\n",
    "\n",
    ">Ejemplo de Modelado de Temas con gensim:"
   ]
  },
  {
   "cell_type": "code",
   "execution_count": 0,
   "metadata": {
    "application/vnd.databricks.v1+cell": {
     "cellMetadata": {
      "byteLimit": 2048000,
      "rowLimit": 10000
     },
     "inputWidgets": {},
     "nuid": "82144b9c-cd0d-4884-a28b-d25f3b4a2b61",
     "showTitle": false,
     "title": ""
    }
   },
   "outputs": [
    {
     "output_type": "display_data",
     "data": {
      "text/plain": [
       ""
      ]
     },
     "metadata": {
      "application/vnd.databricks.v1+output": {
       "arguments": {},
       "data": "",
       "errorSummary": "Command skipped",
       "errorTraceType": "ansi",
       "metadata": {},
       "type": "ipynbError"
      }
     },
     "output_type": "display_data"
    }
   ],
   "source": [
    "import gensim\n",
    "from gensim import corpora\n",
    "\n",
    "# Documentos de ejemplo\n",
    "documentos = [\n",
    "    \"Human machine interface for lab abc computer applications\",\n",
    "    \"A survey of user opinion of computer system response time\",\n",
    "    \"The EPS user interface management system\",\n",
    "    \"System and human system engineering testing of EPS\",\n",
    "    \"Relation of user perceived response time to error measurement\"\n",
    "]\n",
    "\n",
    "# Preprocesar los documentos\n",
    "textos = [preprocesar_texto(doc) for doc in documentos]\n",
    "\n",
    "# Crear un diccionario\n",
    "diccionario = corpora.Dictionary(textos)\n",
    "\n",
    "# Crear un corpus\n",
    "corpus = [diccionario.doc2bow(texto) for texto in textos]\n",
    "\n",
    "# Aplicar LDA para el modelado de temas\n",
    "lda_model = gensim.models.LdaModel(corpus, num_topics=2, id2word=diccionario, passes=10)\n",
    "\n",
    "# Mostrar los temas\n",
    "temas = lda_model.print_topics(num_words=4)\n",
    "for tema in temas:\n",
    "    print(tema)\n",
    "# Salida: Lista de temas con palabras clave\n"
   ]
  },
  {
   "cell_type": "markdown",
   "metadata": {
    "application/vnd.databricks.v1+cell": {
     "cellMetadata": {
      "byteLimit": 2048000,
      "rowLimit": 10000
     },
     "inputWidgets": {},
     "nuid": "28de3067-9618-4b83-88aa-8c5689254e5f",
     "showTitle": false,
     "title": ""
    }
   },
   "source": [
    "---\n",
    "#6. Clasificación de Texto\n",
    "---\n",
    "La clasificación de texto consiste en asignar etiquetas o categorías a fragmentos de texto. Es útil en la categorización de correos electrónicos, análisis de spam, y etiquetado de documentos.\n",
    "\n",
    ">Ejemplo de Clasificación de Texto con sklearn:"
   ]
  },
  {
   "cell_type": "code",
   "execution_count": 0,
   "metadata": {
    "application/vnd.databricks.v1+cell": {
     "cellMetadata": {
      "byteLimit": 2048000,
      "rowLimit": 10000
     },
     "inputWidgets": {},
     "nuid": "9a734edd-923c-466a-830e-9a41d28f6a10",
     "showTitle": false,
     "title": ""
    }
   },
   "outputs": [
    {
     "output_type": "display_data",
     "data": {
      "text/plain": [
       ""
      ]
     },
     "metadata": {
      "application/vnd.databricks.v1+output": {
       "arguments": {},
       "data": "",
       "errorSummary": "Command skipped",
       "errorTraceType": "ansi",
       "metadata": {},
       "type": "ipynbError"
      }
     },
     "output_type": "display_data"
    }
   ],
   "source": [
    "from sklearn.feature_extraction.text import TfidfVectorizer\n",
    "from sklearn.naive_bayes import MultinomialNB\n",
    "from sklearn.model_selection import train_test_split\n",
    "from sklearn.metrics import accuracy_score\n",
    "\n",
    "# Datos de ejemplo\n",
    "documentos = [\n",
    "    \"I love this movie, it is amazing!\",\n",
    "    \"This film is terrible, I hate it.\",\n",
    "    \"What a fantastic performance!\",\n",
    "    \"Awful experience, will not watch again.\",\n",
    "    \"Great plot and excellent acting.\"\n",
    "]\n",
    "etiquetas = [1, 0, 1, 0, 1]  # 1: Positivo, 0: Negativo\n",
    "\n",
    "# Preprocesar y vectorizar los documentos\n",
    "vectorizer = TfidfVectorizer(preprocessor=preprocesar_texto, tokenizer=lambda x: x)\n",
    "X = vectorizer.fit_transform(documentos)\n",
    "y = etiquetas\n",
    "\n",
    "# Dividir los datos en conjuntos de entrenamiento y prueba\n",
    "X_train, X_test, y_train, y_test = train_test_split(X, y, test_size=0.2, random_state=42)\n",
    "\n",
    "# Entrenar el clasificador\n",
    "clf = MultinomialNB()\n",
    "clf.fit(X_train, y_train)\n",
    "\n",
    "# Predecir y evaluar\n",
    "y_pred = clf.predict(X_test)\n",
    "accuracy = accuracy_score(y_test, y_pred)\n",
    "print(\"Precisión:\", accuracy)\n",
    "# Salida: Precisión: 1.0 (puede variar)\n"
   ]
  },
  {
   "cell_type": "markdown",
   "metadata": {
    "application/vnd.databricks.v1+cell": {
     "cellMetadata": {
      "byteLimit": 2048000,
      "rowLimit": 10000
     },
     "inputWidgets": {},
     "nuid": "4e2f6b61-7bd9-41cd-8658-2f92d04f6491",
     "showTitle": false,
     "title": ""
    }
   },
   "source": [
    "# Resumen\n",
    "\n",
    "Las aplicaciones de análisis de texto y minería de datos son diversas y poderosas. Con herramientas y bibliotecas como nltk, TextBlob, spacy, gensim, y sklearn, es posible realizar tareas complejas de preprocesamiento, análisis de sentimientos, extracción de información, modelado de temas y clasificación de texto de manera eficiente y efectiva. Estas técnicas son fundamentales para extraer información valiosa y patrones de grandes volúmenes de texto no estructurado."
   ]
  }
 ],
 "metadata": {
  "application/vnd.databricks.v1+notebook": {
   "dashboards": [],
   "environmentMetadata": null,
   "language": "python",
   "notebookMetadata": {
    "pythonIndentUnit": 4
   },
   "notebookName": "Módulo 1: Programación Funcional en Python",
   "widgets": {}
  }
 },
 "nbformat": 4,
 "nbformat_minor": 0
}
